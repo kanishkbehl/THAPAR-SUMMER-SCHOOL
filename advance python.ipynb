{
 "cells": [
  {
   "cell_type": "markdown",
   "id": "870bac78-04bf-4356-a943-3a48dfb1b7fe",
   "metadata": {},
   "source": [
    "Q1. Create a file that contains 1000 lines of random strings."
   ]
  },
  {
   "cell_type": "code",
   "execution_count": 6,
   "id": "d9eaedb5-f4fa-446a-808f-6ef97c4ef14c",
   "metadata": {},
   "outputs": [
    {
     "name": "stdout",
     "output_type": "stream",
     "text": [
      "File 'random_strings1.txt' created successfully with 1000 lines of random strings.\n"
     ]
    }
   ],
   "source": [
    "import random\n",
    "import string\n",
    "\n",
    "def generate_random_string(length):\n",
    "    letters = string.ascii_letters + string.digits + string.punctuation\n",
    "    return ''.join(random.choice(letters) for _ in range(length))\n",
    "\n",
    "num_lines = 1000\n",
    "line_length = 10\n",
    "filename = 'random_strings1.txt'\n",
    "\n",
    "with open(filename, 'w') as file:\n",
    "    for _ in range(num_lines):\n",
    "        random_string = generate_random_string(line_length)\n",
    "        file.write(random_string + '\\n')\n",
    "\n",
    "print(f\"File '{filename}' created successfully with {num_lines} lines of random strings.\")\n"
   ]
  },
  {
   "cell_type": "markdown",
   "id": "552cdd3d-4a36-4f94-a957-5a64be3f282e",
   "metadata": {},
   "source": [
    "Q2. Create a file that contains multiple lines of random strings and file size must be 5 MB."
   ]
  },
  {
   "cell_type": "code",
   "execution_count": 7,
   "id": "4cc7ba2b-1fcf-4281-b003-002ecbfd5d8d",
   "metadata": {},
   "outputs": [
    {
     "name": "stdout",
     "output_type": "stream",
     "text": [
      "File 'random_strings2.txt' created successfully with a size of approximately 5 MB.\n"
     ]
    }
   ],
   "source": [
    "import random\n",
    "import string\n",
    "\n",
    "def generate_random_string(length):\n",
    "    letters = string.ascii_letters + string.digits + string.punctuation\n",
    "    return ''.join(random.choice(letters) for _ in range(length))\n",
    "\n",
    "target_filesize = 5 * 1024 * 1024  \n",
    "line_length = 100  \n",
    "filename = 'random_strings2.txt'\n",
    "\n",
    "with open(filename, 'w') as file:\n",
    "    filesize = 0\n",
    "    while filesize < target_filesize:\n",
    "        random_string = generate_random_string(line_length)\n",
    "        line = random_string + '\\n'\n",
    "        file.write(line)\n",
    "        filesize += len(line)\n",
    "\n",
    "print(f\"File '{filename}' created successfully with a size of approximately 5 MB.\")\n"
   ]
  },
  {
   "cell_type": "markdown",
   "id": "a171e27a-4a96-4f65-8b6e-d7005a210ace",
   "metadata": {},
   "source": [
    "Q3. Create 10 files that contains multiple lines of random strings and file size of each file must be 5 MB."
   ]
  },
  {
   "cell_type": "code",
   "execution_count": 5,
   "id": "eb948f89-ca68-4d0b-8735-6709f4b635c5",
   "metadata": {},
   "outputs": [
    {
     "name": "stdout",
     "output_type": "stream",
     "text": [
      "File 'random_strings3_1.txt' created successfully with a size of approximately 5 MB.\n",
      "File 'random_strings3_2.txt' created successfully with a size of approximately 5 MB.\n",
      "File 'random_strings3_3.txt' created successfully with a size of approximately 5 MB.\n",
      "File 'random_strings3_4.txt' created successfully with a size of approximately 5 MB.\n",
      "File 'random_strings3_5.txt' created successfully with a size of approximately 5 MB.\n",
      "File 'random_strings3_6.txt' created successfully with a size of approximately 5 MB.\n",
      "File 'random_strings3_7.txt' created successfully with a size of approximately 5 MB.\n",
      "File 'random_strings3_8.txt' created successfully with a size of approximately 5 MB.\n",
      "File 'random_strings3_9.txt' created successfully with a size of approximately 5 MB.\n",
      "File 'random_strings3_10.txt' created successfully with a size of approximately 5 MB.\n"
     ]
    }
   ],
   "source": [
    "import random\n",
    "import string\n",
    "\n",
    "def generate_random_string(length):\n",
    "    letters = string.ascii_letters + string.digits + string.punctuation\n",
    "    return ''.join(random.choice(letters) for _ in range(length))\n",
    "\n",
    "target_filesize = 5 * 1024 * 1024  \n",
    "line_length = 100  \n",
    "num_files = 10\n",
    "file_prefix = 'random_strings3'\n",
    "\n",
    "for i in range(1, num_files+1):\n",
    "    filename = f\"{file_prefix}_{i}.txt\"\n",
    "    filesize = 0\n",
    "    with open(filename, 'w') as file:\n",
    "        while filesize < target_filesize:\n",
    "            random_string = generate_random_string(line_length)\n",
    "            line = random_string + '\\n'\n",
    "            file.write(line)\n",
    "            filesize += len(line)\n",
    "\n",
    "    print(f\"File '{filename}' created successfully with a size of approximately 5 MB.\")\n"
   ]
  },
  {
   "cell_type": "markdown",
   "id": "fe3a1478-6152-4eff-9443-105b0d45c0d5",
   "metadata": {},
   "source": [
    "Q4. Create 5 files of size 1GB, 2GB, 3GB, 4GB and 5GB; file contains multiple lines of random strings."
   ]
  },
  {
   "cell_type": "code",
   "execution_count": 1,
   "id": "718a5317-983d-4088-acd9-e906b7638ecc",
   "metadata": {},
   "outputs": [
    {
     "name": "stdout",
     "output_type": "stream",
     "text": [
      "Temporary file 'temp_file_1GB.txt' created successfully with a size of 1GB.\n",
      "Temporary file 'temp_file_2GB.txt' created successfully with a size of 2GB.\n",
      "Temporary file 'temp_file_3GB.txt' created successfully with a size of 3GB.\n",
      "Temporary file 'temp_file_4GB.txt' created successfully with a size of 4GB.\n",
      "Temporary file 'temp_file_5GB.txt' created successfully with a size of 5GB.\n"
     ]
    },
    {
     "ename": "OSError",
     "evalue": "[Errno 28] No space left on device",
     "output_type": "error",
     "traceback": [
      "\u001b[0;31m---------------------------------------------------------------------------\u001b[0m",
      "\u001b[0;31mOSError\u001b[0m                                   Traceback (most recent call last)",
      "Cell \u001b[0;32mIn[1], line 39\u001b[0m\n\u001b[1;32m     36\u001b[0m output_file \u001b[38;5;241m=\u001b[39m \u001b[38;5;124mf\u001b[39m\u001b[38;5;124m\"\u001b[39m\u001b[38;5;132;01m{\u001b[39;00moutput_file_prefix\u001b[38;5;132;01m}\u001b[39;00m\u001b[38;5;124m5GB.txt\u001b[39m\u001b[38;5;124m\"\u001b[39m\n\u001b[1;32m     37\u001b[0m input_files \u001b[38;5;241m=\u001b[39m [\u001b[38;5;124mf\u001b[39m\u001b[38;5;124m\"\u001b[39m\u001b[38;5;124mtemp_file_\u001b[39m\u001b[38;5;132;01m{\u001b[39;00msize\u001b[38;5;132;01m}\u001b[39;00m\u001b[38;5;124mGB.txt\u001b[39m\u001b[38;5;124m\"\u001b[39m \u001b[38;5;28;01mfor\u001b[39;00m size \u001b[38;5;129;01min\u001b[39;00m file_sizes]\n\u001b[0;32m---> 39\u001b[0m \u001b[43mcombine_files\u001b[49m\u001b[43m(\u001b[49m\u001b[43moutput_file\u001b[49m\u001b[43m,\u001b[49m\u001b[43m \u001b[49m\u001b[43minput_files\u001b[49m\u001b[43m)\u001b[49m\n\u001b[1;32m     40\u001b[0m \u001b[38;5;28mprint\u001b[39m(\u001b[38;5;124mf\u001b[39m\u001b[38;5;124m\"\u001b[39m\u001b[38;5;124mCombined file \u001b[39m\u001b[38;5;124m'\u001b[39m\u001b[38;5;132;01m{\u001b[39;00moutput_file\u001b[38;5;132;01m}\u001b[39;00m\u001b[38;5;124m'\u001b[39m\u001b[38;5;124m created successfully with a size of 15GB.\u001b[39m\u001b[38;5;124m\"\u001b[39m)\n",
      "Cell \u001b[0;32mIn[1], line 23\u001b[0m, in \u001b[0;36mcombine_files\u001b[0;34m(output_file, input_files)\u001b[0m\n\u001b[1;32m     21\u001b[0m \u001b[38;5;28;01mwith\u001b[39;00m \u001b[38;5;28mopen\u001b[39m(input_file, \u001b[38;5;124m'\u001b[39m\u001b[38;5;124mr\u001b[39m\u001b[38;5;124m'\u001b[39m) \u001b[38;5;28;01mas\u001b[39;00m infile:\n\u001b[1;32m     22\u001b[0m     \u001b[38;5;28;01mfor\u001b[39;00m line \u001b[38;5;129;01min\u001b[39;00m infile:\n\u001b[0;32m---> 23\u001b[0m         \u001b[43moutfile\u001b[49m\u001b[38;5;241;43m.\u001b[39;49m\u001b[43mwrite\u001b[49m\u001b[43m(\u001b[49m\u001b[43mline\u001b[49m\u001b[43m)\u001b[49m\n",
      "\u001b[0;31mOSError\u001b[0m: [Errno 28] No space left on device"
     ]
    }
   ],
   "source": [
    "import random\n",
    "import string\n",
    "import os\n",
    "\n",
    "def generate_random_string(length):\n",
    "    letters = string.ascii_letters + string.digits + string.punctuation\n",
    "    return ''.join(random.choice(letters) for _ in range(length))\n",
    "\n",
    "def generate_file(file_path, target_filesize):\n",
    "    with open(file_path, 'w') as file:\n",
    "        filesize = 0\n",
    "        while filesize < target_filesize:\n",
    "            random_string = generate_random_string(100)  \n",
    "            line = random_string + '\\n'\n",
    "            file.write(line)\n",
    "            filesize += len(line)\n",
    "\n",
    "def combine_files(output_file, input_files):\n",
    "    with open(output_file, 'w') as outfile:\n",
    "        for input_file in input_files:\n",
    "            with open(input_file, 'r') as infile:\n",
    "                for line in infile:\n",
    "                    outfile.write(line)\n",
    "\n",
    "file_sizes = [1, 2, 3, 4, 5]  \n",
    "line_length = 100  \n",
    "output_file_prefix = 'combined_file_'\n",
    "\n",
    "for size in file_sizes:\n",
    "    file_path = f\"temp_file_{size}GB.txt\"\n",
    "    target_filesize = size * 1024 * 1024 * 1024\n",
    "\n",
    "    generate_file(file_path, target_filesize)\n",
    "    print(f\"Temporary file '{file_path}' created successfully with a size of {size}GB.\")\n",
    "\n",
    "output_file = f\"{output_file_prefix}5GB.txt\"\n",
    "input_files = [f\"temp_file_{size}GB.txt\" for size in file_sizes]\n",
    "\n",
    "combine_files(output_file, input_files)\n",
    "print(f\"Combined file '{output_file}' created successfully with a size of 15GB.\")\n"
   ]
  },
  {
   "cell_type": "markdown",
   "id": "aac1d00c-0f8e-4ecf-93b7-b0a6edbe8d23",
   "metadata": {},
   "source": [
    "Q5. Convert all the files of Q4 into upper case one by one."
   ]
  },
  {
   "cell_type": "code",
   "execution_count": null,
   "id": "17e1509d-1b82-4720-919c-38025dd8a565",
   "metadata": {},
   "outputs": [],
   "source": [
    "def convert_to_uppercase(file_path):\n",
    "    with open(file_path, 'r+') as file:\n",
    "        content = file.read()\n",
    "        file.seek(0)\n",
    "        file.write(content.upper())\n",
    "        file.truncate()\n",
    "\n",
    "file_paths = [\"random_strings_1GB.txt\", \"random_strings_2GB.txt\", \"random_strings_3GB.txt\",\n",
    "              \"random_strings_4GB.txt\", \"random_strings_5GB.txt\"]\n",
    "\n",
    "for file_path in file_paths:\n",
    "    convert_to_uppercase(file_path)\n",
    "    print(f\"File '{file_path}' converted to uppercase.\")\n"
   ]
  },
  {
   "cell_type": "markdown",
   "id": "95088907-34c8-49da-bb4b-e279a7735088",
   "metadata": {},
   "source": [
    "Q6. Convert all the files of Q4 into upper case parallel using multi-threading."
   ]
  },
  {
   "cell_type": "code",
   "execution_count": null,
   "id": "4931e8d7-7ab9-451f-846a-71cece918831",
   "metadata": {},
   "outputs": [],
   "source": [
    "import concurrent.futures\n",
    "\n",
    "def convert_to_uppercase(file_path):\n",
    "    with open(file_path, 'r+') as file:\n",
    "        content = file.read()\n",
    "        file.seek(0)\n",
    "        file.write(content.upper())\n",
    "        file.truncate()\n",
    "\n",
    "file_paths = [\"random_strings_1GB.txt\", \"random_strings_2GB.txt\", \"random_strings_3GB.txt\",\n",
    "              \"random_strings_4GB.txt\", \"random_strings_5GB.txt\"]\n",
    "\n",
    "with concurrent.futures.ThreadPoolExecutor() as executor:\n",
    "    executor.map(convert_to_uppercase, file_paths)\n",
    "\n",
    "print(\"All files converted to uppercase.\")\n"
   ]
  },
  {
   "cell_type": "markdown",
   "id": "0be513a2-6c1d-45ec-a20b-905d0a0399ce",
   "metadata": {},
   "source": [
    "Q7. WAP to automatically download 10 images of cat from “Google Images”. [Hint: Find the package from\n",
    "pypi.org and use it]"
   ]
  },
  {
   "cell_type": "code",
   "execution_count": null,
   "id": "00f2b225-9bd5-4722-a5ac-b0f6f93b89a4",
   "metadata": {},
   "outputs": [],
   "source": [
    "pip install google_images_download\n"
   ]
  },
  {
   "cell_type": "code",
   "execution_count": null,
   "id": "45848f73-b5b4-4716-95e1-0db055e3c633",
   "metadata": {},
   "outputs": [],
   "source": [
    "from google_images_download import google_images_download\n",
    "\n",
    "def download_images(keyword, num_images):\n",
    "    response = google_images_download.googleimagesdownload()\n",
    "\n",
    "    arguments = {\n",
    "        'keywords': keyword,\n",
    "        'limit': num_images,\n",
    "        'print_urls': False\n",
    "    }\n",
    "\n",
    "    response.download(arguments)\n",
    "\n",
    "keyword = \"cat\"  \n",
    "num_images = 10 \n",
    "\n",
    "download_images(keyword, num_images)\n"
   ]
  },
  {
   "cell_type": "markdown",
   "id": "c6c39124-3a53-4305-bd93-9b99c74e3255",
   "metadata": {},
   "source": [
    "Q8. WAP to automatically download 10 videos of “Machine Learning” from “Youtube.com”. [Hint: Find the\n",
    "package from pypi.org and use it]"
   ]
  },
  {
   "cell_type": "code",
   "execution_count": null,
   "id": "da3f9cfa-7644-4a81-ba76-2efca49da154",
   "metadata": {},
   "outputs": [],
   "source": [
    "pip install youtube-dl\n"
   ]
  },
  {
   "cell_type": "code",
   "execution_count": null,
   "id": "c5315580-9226-45b0-b699-8ffdfc4d8620",
   "metadata": {},
   "outputs": [],
   "source": [
    "import youtube_dl\n",
    "\n",
    "def download_videos(keyword, num_videos):\n",
    "    ydl_opts = {\n",
    "        'outtmpl': '%(title)s.%(ext)s',\n",
    "        'max_downloads': num_videos,\n",
    "        'format': 'bestvideo[ext=mp4]+bestaudio[ext=m4a]/best[ext=mp4]/best',\n",
    "        'ignoreerrors': True,\n",
    "        'no_warnings': True\n",
    "    }\n",
    "\n",
    "    with youtube_dl.YoutubeDL(ydl_opts) as ydl:\n",
    "        query = f\"{keyword} videos\"\n",
    "        search_results = ydl.extract_info(f\"ytsearch{num_videos}:{query}\", download=False)\n",
    "\n",
    "        for video in search_results['entries']:\n",
    "            if video is not None:\n",
    "                video_url = video['webpage_url']\n",
    "                ydl.download([video_url])\n",
    "\n",
    "keyword = \"Machine Learning\" \n",
    "num_videos = 10 \n",
    "\n",
    "download_videos(keyword, num_videos)\n"
   ]
  }
 ],
 "metadata": {
  "kernelspec": {
   "display_name": "Python 3 (ipykernel)",
   "language": "python",
   "name": "python3"
  },
  "language_info": {
   "codemirror_mode": {
    "name": "ipython",
    "version": 3
   },
   "file_extension": ".py",
   "mimetype": "text/x-python",
   "name": "python",
   "nbconvert_exporter": "python",
   "pygments_lexer": "ipython3",
   "version": "3.10.9"
  }
 },
 "nbformat": 4,
 "nbformat_minor": 5
}
