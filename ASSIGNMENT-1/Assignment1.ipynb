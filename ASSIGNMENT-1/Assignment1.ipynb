{
 "cells": [
  {
   "cell_type": "code",
   "execution_count": 12,
   "id": "43cf21d7-2034-4680-9353-d2d4fd250396",
   "metadata": {},
   "outputs": [],
   "source": [
    "L = [11, 12, 13, 14]"
   ]
  },
  {
   "cell_type": "markdown",
   "id": "8b26dfa2-e035-458e-a046-4e5a32e48f0e",
   "metadata": {},
   "source": [
    "(i) WAP to add 50 and 60 to L."
   ]
  },
  {
   "cell_type": "markdown",
   "id": "d90a6e22-06bb-48bd-9eec-dd6ab9b54be4",
   "metadata": {},
   "source": [
    "Q1. L is a list defined as L= [11, 12, 13, 14]."
   ]
  },
  {
   "cell_type": "code",
   "execution_count": 13,
   "id": "6c5332ed-0782-4463-ac7a-38ee0598c1cc",
   "metadata": {},
   "outputs": [
    {
     "data": {
      "text/plain": [
       "[11, 12, 13, 14, 50, 60]"
      ]
     },
     "execution_count": 13,
     "metadata": {},
     "output_type": "execute_result"
    }
   ],
   "source": [
    "L.append(50)\n",
    "L.append(60)\n",
    "L"
   ]
  },
  {
   "cell_type": "markdown",
   "id": "5e5c14dd-4a89-4fa1-8303-78b9c272f764",
   "metadata": {},
   "source": [
    "(ii) WAP to remove 11 and 13from L."
   ]
  },
  {
   "cell_type": "code",
   "execution_count": 14,
   "id": "607913e5-1a33-404c-bcc8-1871914cb0e3",
   "metadata": {},
   "outputs": [
    {
     "data": {
      "text/plain": [
       "[12, 14, 50, 60]"
      ]
     },
     "execution_count": 14,
     "metadata": {},
     "output_type": "execute_result"
    }
   ],
   "source": [
    "L.remove(11)\n",
    "L\n",
    "L.remove(13)\n",
    "L"
   ]
  },
  {
   "cell_type": "markdown",
   "id": "53b943bf-8062-42fd-9213-f11fbcb9a375",
   "metadata": {},
   "source": [
    "(iii) WAP to sort L in ascending order."
   ]
  },
  {
   "cell_type": "code",
   "execution_count": 17,
   "id": "74b8f2b1-eb34-4f2d-aabd-3e3580e5da8f",
   "metadata": {},
   "outputs": [
    {
     "data": {
      "text/plain": [
       "[12, 14, 50, 60]"
      ]
     },
     "execution_count": 17,
     "metadata": {},
     "output_type": "execute_result"
    }
   ],
   "source": [
    "L.sort()\n",
    "L"
   ]
  },
  {
   "cell_type": "markdown",
   "id": "3fcf538f-8ea1-4d46-8739-c30f4f41d2cf",
   "metadata": {},
   "source": [
    "(iv) WAP to sort L in descending order."
   ]
  },
  {
   "cell_type": "code",
   "execution_count": 19,
   "id": "7ac178f6-ad5e-42a5-a8f9-4e7df15aecac",
   "metadata": {},
   "outputs": [
    {
     "data": {
      "text/plain": [
       "[60, 50, 14, 12]"
      ]
     },
     "execution_count": 19,
     "metadata": {},
     "output_type": "execute_result"
    }
   ],
   "source": [
    "L.sort(reverse=True)\n",
    "L"
   ]
  },
  {
   "cell_type": "markdown",
   "id": "25530c15-3670-4d4c-b061-7998cac4b119",
   "metadata": {},
   "source": [
    "(v) WAP to search for 13 in L."
   ]
  },
  {
   "cell_type": "code",
   "execution_count": 22,
   "id": "58ed0a01-da2d-43bb-b328-e7a64ce6f8c1",
   "metadata": {},
   "outputs": [
    {
     "name": "stdout",
     "output_type": "stream",
     "text": [
      "13 not found in L \n"
     ]
    }
   ],
   "source": [
    "if 13 in L:\n",
    "    print(\"13 found in L \")\n",
    "else:\n",
    "    print(\"13 not found in L \")"
   ]
  },
  {
   "cell_type": "markdown",
   "id": "411801a3-4dc8-4849-918c-53a0286014a4",
   "metadata": {},
   "source": [
    "(vi) WAP to count the number of elements present in L."
   ]
  },
  {
   "cell_type": "code",
   "execution_count": 23,
   "id": "46634e49-cad9-4eba-acb4-4a6cc653ccc7",
   "metadata": {},
   "outputs": [
    {
     "name": "stdout",
     "output_type": "stream",
     "text": [
      "Number of elements in List L :  4\n"
     ]
    }
   ],
   "source": [
    "print(\"Number of elements in List L : \" ,len(L))"
   ]
  },
  {
   "cell_type": "markdown",
   "id": "3121ac4c-1325-4dc7-981b-4e7db5ea0854",
   "metadata": {},
   "source": [
    "(vii) WAP to sum all the elements in L.\n"
   ]
  },
  {
   "cell_type": "code",
   "execution_count": 24,
   "id": "fb24fb05-391e-4ca9-a407-f53ea037c20b",
   "metadata": {},
   "outputs": [
    {
     "name": "stdout",
     "output_type": "stream",
     "text": [
      "Sum of the elements in L :  136\n"
     ]
    }
   ],
   "source": [
    "sum = 0\n",
    "for i in L:\n",
    "    sum = sum + i\n",
    "print(\"Sum of the elements in L : \" , sum)"
   ]
  },
  {
   "cell_type": "markdown",
   "id": "e844c7da-54c5-4545-ab9b-b8db16cae8a7",
   "metadata": {},
   "source": [
    "(viii) WAP to sum all ODD numbers in L."
   ]
  },
  {
   "cell_type": "code",
   "execution_count": 26,
   "id": "df960576-d3e0-4605-9691-649b27cc6f13",
   "metadata": {},
   "outputs": [
    {
     "name": "stdout",
     "output_type": "stream",
     "text": [
      "Sum all ODD numbers in L :  0\n"
     ]
    }
   ],
   "source": [
    "sum = 0\n",
    "for i in L :\n",
    "    if i % 2 != 0:\n",
    "        sum = sum + i\n",
    "print(\"Sum all ODD numbers in L : \" , sum)"
   ]
  },
  {
   "cell_type": "markdown",
   "id": "92ebe01a-59f3-40c0-8e97-80aad1c65041",
   "metadata": {},
   "source": [
    "(ix) WAP to sum all EVEN numbers in L.\n"
   ]
  },
  {
   "cell_type": "code",
   "execution_count": 27,
   "id": "efc52a0a-8c01-488c-9efe-9ae907a1e5ea",
   "metadata": {},
   "outputs": [
    {
     "name": "stdout",
     "output_type": "stream",
     "text": [
      "Sum all ODD numbers in L :  136\n"
     ]
    }
   ],
   "source": [
    "sum = 0\n",
    "for i in L :\n",
    "    if i % 2 == 0:\n",
    "        sum = sum + i\n",
    "print(\"Sum all ODD numbers in L : \" , sum)"
   ]
  },
  {
   "cell_type": "markdown",
   "id": "c6b2bc7b-d78c-401a-b1c7-61ee32e22d16",
   "metadata": {},
   "source": [
    "(x) WAP to sum all PRIME numbers in L."
   ]
  },
  {
   "cell_type": "code",
   "execution_count": 29,
   "id": "c838290b-6c51-4d9f-bf67-acb49948610f",
   "metadata": {},
   "outputs": [
    {
     "name": "stdout",
     "output_type": "stream",
     "text": [
      "Sum all PRIME numbers in L: 0\n"
     ]
    }
   ],
   "source": [
    "sum = 0\n",
    "for k in  L:\n",
    "    for i in range(2, k//2 + 1):\n",
    "        if  k % i == 0: \n",
    "            f=1\n",
    "            break\n",
    "\n",
    "    if f==0:\n",
    "        sum = sum + k\n",
    "\n",
    "print(\"Sum all PRIME numbers in L:\" , sum)"
   ]
  },
  {
   "cell_type": "markdown",
   "id": "2be9cce5-0714-4949-b889-34fd4c965aa1",
   "metadata": {},
   "source": [
    "(xi) WAP to clear all the elements in L."
   ]
  },
  {
   "cell_type": "code",
   "execution_count": 30,
   "id": "4bdc4012-ac87-4fbe-8b2b-891d1534dbf8",
   "metadata": {},
   "outputs": [
    {
     "data": {
      "text/plain": [
       "[]"
      ]
     },
     "execution_count": 30,
     "metadata": {},
     "output_type": "execute_result"
    }
   ],
   "source": [
    "L.clear()\n",
    "L"
   ]
  },
  {
   "cell_type": "markdown",
   "id": "50c11561-b09a-4de8-a935-63480ff7525e",
   "metadata": {},
   "source": [
    "(xii) WAP to delete L.\n"
   ]
  },
  {
   "cell_type": "code",
   "execution_count": 31,
   "id": "0463c65b-4549-4ecd-b936-fdccb67e38d5",
   "metadata": {},
   "outputs": [
    {
     "ename": "NameError",
     "evalue": "name 'L' is not defined",
     "output_type": "error",
     "traceback": [
      "\u001b[1;31m---------------------------------------------------------------------------\u001b[0m",
      "\u001b[1;31mNameError\u001b[0m                                 Traceback (most recent call last)",
      "\u001b[1;32m~\\AppData\\Local\\Temp\\ipykernel_1420\\1424664005.py\u001b[0m in \u001b[0;36m<module>\u001b[1;34m\u001b[0m\n\u001b[0;32m      1\u001b[0m \u001b[1;32mdel\u001b[0m \u001b[0mL\u001b[0m\u001b[1;33m\u001b[0m\u001b[1;33m\u001b[0m\u001b[0m\n\u001b[1;32m----> 2\u001b[1;33m \u001b[0mL\u001b[0m\u001b[1;33m\u001b[0m\u001b[1;33m\u001b[0m\u001b[0m\n\u001b[0m",
      "\u001b[1;31mNameError\u001b[0m: name 'L' is not defined"
     ]
    }
   ],
   "source": [
    "del L\n",
    "L"
   ]
  },
  {
   "cell_type": "markdown",
   "id": "02479a4a-eb2d-4e4f-a780-5499ad161f46",
   "metadata": {},
   "source": [
    "Q2. D is a dictionary defined as D= {1:5.6, 2:7.8, 3:6.6, 4:8.7, 5:7.7}."
   ]
  },
  {
   "cell_type": "code",
   "execution_count": 36,
   "id": "2b5de714-e007-4f40-a576-d2483b9656e3",
   "metadata": {},
   "outputs": [
    {
     "data": {
      "text/plain": [
       "{1: 5.6, 2: 7.8, 3: 6.6, 4: 8.7, 5: 7.7}"
      ]
     },
     "execution_count": 36,
     "metadata": {},
     "output_type": "execute_result"
    }
   ],
   "source": [
    "D= {1:5.6, 2:7.8, 3:6.6, 4:8.7, 5:7.7}\n",
    "D"
   ]
  },
  {
   "cell_type": "markdown",
   "id": "47d93ddb-5fca-4f9a-85cc-3f4be2e9929d",
   "metadata": {},
   "source": [
    "(i) WAP to add new entry in D; key=8 and value is 8.8"
   ]
  },
  {
   "cell_type": "code",
   "execution_count": 37,
   "id": "3137da77-4cb7-43b1-8fd2-431b2361247a",
   "metadata": {},
   "outputs": [
    {
     "data": {
      "text/plain": [
       "{1: 5.6, 2: 7.8, 3: 6.6, 4: 8.7, 5: 7.7, 8: 8.8}"
      ]
     },
     "execution_count": 37,
     "metadata": {},
     "output_type": "execute_result"
    }
   ],
   "source": [
    "D[8]=8.8\n",
    "D"
   ]
  },
  {
   "cell_type": "markdown",
   "id": "99cd149a-63dc-4217-9a6d-afbed566efea",
   "metadata": {},
   "source": [
    "(ii) WAP to remove key=2."
   ]
  },
  {
   "cell_type": "code",
   "execution_count": 39,
   "id": "8e97b546-d450-4ad1-9902-cc01e0032bd7",
   "metadata": {},
   "outputs": [
    {
     "data": {
      "text/plain": [
       "{1: 5.6, 3: 6.6, 4: 8.7, 5: 7.7, 8: 8.8}"
      ]
     },
     "execution_count": 39,
     "metadata": {},
     "output_type": "execute_result"
    }
   ],
   "source": [
    "del D[2]\n",
    "D"
   ]
  },
  {
   "cell_type": "markdown",
   "id": "af8af4cb-b501-407b-aebe-eda1de40a580",
   "metadata": {},
   "source": [
    "(iii) WAP to check weather 6 key is present in D."
   ]
  },
  {
   "cell_type": "code",
   "execution_count": 41,
   "id": "211dcbb6-4dd9-48fc-99bb-dc0b3c97abcf",
   "metadata": {},
   "outputs": [
    {
     "name": "stdout",
     "output_type": "stream",
     "text": [
      "6 key is not present in D.\n"
     ]
    }
   ],
   "source": [
    "if 6 in D:\n",
    "    print(\"6 key is present in D.\")\n",
    "else:\n",
    "    print(\"6 key is not present in D.\")"
   ]
  },
  {
   "cell_type": "markdown",
   "id": "00b0e364-4dc3-4410-8c36-a44d7282b4c4",
   "metadata": {},
   "source": [
    "(iv) WAP to count the number of elements present in D."
   ]
  },
  {
   "cell_type": "code",
   "execution_count": 43,
   "id": "7aa196e4-076b-4a99-bf14-9a71f36b6669",
   "metadata": {},
   "outputs": [
    {
     "name": "stdout",
     "output_type": "stream",
     "text": [
      "Number of elements present in D : 5\n"
     ]
    },
    {
     "data": {
      "text/plain": [
       "{1: 5.6, 3: 6.6, 4: 8.7, 5: 7.7, 8: 8.8}"
      ]
     },
     "execution_count": 43,
     "metadata": {},
     "output_type": "execute_result"
    }
   ],
   "source": [
    "count = 0\n",
    "for K in D:\n",
    "    count = count + 1\n",
    "print(\"Number of elements present in D :\", count)\n",
    "D"
   ]
  },
  {
   "cell_type": "markdown",
   "id": "fb13df11-031f-407f-962c-1e841df0bd1a",
   "metadata": {},
   "source": [
    "(v) WAP to add all the values present D"
   ]
  },
  {
   "cell_type": "code",
   "execution_count": 50,
   "id": "75174eda-b8c8-4f0e-b236-d3becadcebf7",
   "metadata": {},
   "outputs": [
    {
     "name": "stdout",
     "output_type": "stream",
     "text": [
      "Sum of all values in D :  31.8\n"
     ]
    }
   ],
   "source": [
    "sum = 0\n",
    "values = list(D.values())\n",
    "for i in range(1,len(values),1):\n",
    "    sum = sum + values[i]\n",
    "print(\"Sum of all values in D : \" , sum )"
   ]
  },
  {
   "cell_type": "markdown",
   "id": "33b3f29a-8e11-4aa7-b57d-42ef1346dfae",
   "metadata": {},
   "source": [
    "(vi) WAP to update the value of 3 to 7.1"
   ]
  },
  {
   "cell_type": "code",
   "execution_count": 52,
   "id": "1f8779fc-430a-4923-bd2c-13a76279d957",
   "metadata": {},
   "outputs": [
    {
     "name": "stdout",
     "output_type": "stream",
     "text": [
      "Old Dictionary before update :  {1: 5.6, 3: 6.6, 4: 8.7, 5: 7.7, 8: 8.8}\n",
      "New Dictionary after update :  {1: 5.6, 3: 7.1, 4: 8.7, 5: 7.7, 8: 8.8}\n"
     ]
    }
   ],
   "source": [
    "print(\"Old Dictionary before update : \", D)\n",
    "D[3]=7.1\n",
    "print(\"New Dictionary after update : \", D)"
   ]
  },
  {
   "cell_type": "markdown",
   "id": "d5877a67-5674-4f02-b3a6-259a25a607ae",
   "metadata": {},
   "source": [
    "(vii) WAP to clear the dictionary."
   ]
  },
  {
   "cell_type": "code",
   "execution_count": 53,
   "id": "f91cb08c-3b62-4dc1-8fa0-a8d422c234b5",
   "metadata": {},
   "outputs": [
    {
     "data": {
      "text/plain": [
       "{}"
      ]
     },
     "execution_count": 53,
     "metadata": {},
     "output_type": "execute_result"
    }
   ],
   "source": [
    "D.clear()\n",
    "D"
   ]
  },
  {
   "cell_type": "markdown",
   "id": "54e9e87d-a14c-422a-a14d-64ddbd0afd80",
   "metadata": {},
   "source": [
    "Q3. S1 is a set defined as S1= [10, 20, 30, 40, 50, 60].\n",
    " S2 is a set defined as S2= [40, 50, 60, 70, 80, 90].\n"
   ]
  },
  {
   "cell_type": "code",
   "execution_count": 57,
   "id": "7f79eedc-b29c-4b2d-b72f-921f3b13aaf9",
   "metadata": {},
   "outputs": [
    {
     "name": "stdout",
     "output_type": "stream",
     "text": [
      "S1: [10, 20, 30, 40, 50, 60]\n",
      "S2: [40, 50, 60, 70, 80, 90]\n"
     ]
    }
   ],
   "source": [
    "S1= [10, 20, 30, 40, 50, 60]\n",
    "S2= [40, 50, 60, 70, 80, 90]\n",
    "print(\"S1:\",S1)\n",
    "print(\"S2:\",S2)"
   ]
  },
  {
   "cell_type": "markdown",
   "id": "42f78ec6-4dbf-4b46-a834-c8e204850ea5",
   "metadata": {},
   "source": [
    "(i) WAP to add 55 and 66 in Set S1.\n"
   ]
  },
  {
   "cell_type": "code",
   "execution_count": 59,
   "id": "e6df7db6-a527-4cfd-ba52-80c14817f248",
   "metadata": {},
   "outputs": [
    {
     "data": {
      "text/plain": [
       "[10, 20, 30, 40, 50, 60, 55, 66]"
      ]
     },
     "execution_count": 59,
     "metadata": {},
     "output_type": "execute_result"
    }
   ],
   "source": [
    "S1.append(55)\n",
    "S1.append(66)\n",
    "S1"
   ]
  },
  {
   "cell_type": "markdown",
   "id": "61d03e0a-cd32-4241-836b-1378a1af4b78",
   "metadata": {},
   "source": [
    "(ii) WAP to remove 10 and 30 from Set S1"
   ]
  },
  {
   "cell_type": "code",
   "execution_count": 60,
   "id": "f5e5c288-944b-41b1-8c38-aa4a7da546ae",
   "metadata": {},
   "outputs": [
    {
     "data": {
      "text/plain": [
       "[20, 30, 50, 60, 55, 66]"
      ]
     },
     "execution_count": 60,
     "metadata": {},
     "output_type": "execute_result"
    }
   ],
   "source": [
    "del S1[0]\n",
    "del S1[2]\n",
    "S1"
   ]
  },
  {
   "cell_type": "markdown",
   "id": "01142ec8-8736-4648-a1ff-925e7ed3a04a",
   "metadata": {},
   "source": [
    "(iii) WAP to check whether 40 is present in S1.\n"
   ]
  },
  {
   "cell_type": "code",
   "execution_count": 61,
   "id": "f72619f5-ba9b-4d75-89ad-7b8d023e0ba2",
   "metadata": {},
   "outputs": [
    {
     "name": "stdout",
     "output_type": "stream",
     "text": [
      "40 is not present in S1.\n"
     ]
    }
   ],
   "source": [
    "if 40 in S1:\n",
    "    print(\"40 is present in S1.\")\n",
    "else:\n",
    "    print(\"40 is not present in S1.\")"
   ]
  },
  {
   "cell_type": "markdown",
   "id": "9e3d9ca5-7676-4618-97f4-f24a81fa48fe",
   "metadata": {},
   "source": [
    "(iv) WAP to find the union between S1 and S2.\n"
   ]
  },
  {
   "cell_type": "code",
   "execution_count": 63,
   "id": "1e559d8a-37d5-4baa-b495-b5dd617acea0",
   "metadata": {},
   "outputs": [
    {
     "name": "stdout",
     "output_type": "stream",
     "text": [
      "Union of S1 and S2 :  [20, 30, 50, 60, 55, 66, 40, 50, 60, 70, 80, 90]\n"
     ]
    }
   ],
   "source": [
    "print(\"Union of S1 and S2 : \" , S1 + S2)"
   ]
  },
  {
   "cell_type": "markdown",
   "id": "45bf9ea2-9103-4ae2-a013-08918e5f44ff",
   "metadata": {},
   "source": [
    "(v) WAP to find the intersection between S1 and S2."
   ]
  },
  {
   "cell_type": "code",
   "execution_count": 65,
   "id": "9c8eed86-be10-4adb-a301-c11f2dcbf318",
   "metadata": {},
   "outputs": [
    {
     "name": "stdout",
     "output_type": "stream",
     "text": [
      "Intersection of S1 and S2:  [50, 60]\n"
     ]
    }
   ],
   "source": [
    "intersection = []\n",
    "for i in S1:\n",
    "    for j in S2:\n",
    "        if i==j:\n",
    "            intersection.append(i)\n",
    "print(\"Intersection of S1 and S2: \", intersection)  "
   ]
  },
  {
   "cell_type": "markdown",
   "id": "9a7cc527-d245-427b-8541-bfc945e9172b",
   "metadata": {},
   "source": [
    "(vi) WAP to find the S1 - S2."
   ]
  },
  {
   "cell_type": "code",
   "execution_count": 70,
   "id": "0e32d501-4ef5-41b6-a221-cd499da4368e",
   "metadata": {},
   "outputs": [
    {
     "name": "stdout",
     "output_type": "stream",
     "text": [
      "S1: [20, 30, 50, 60, 55, 66]\n",
      "S2: [40, 50, 60, 70, 80, 90]\n",
      "S1 - S2:  [20, 20, 30, 30, 50, 60, 55, 55, 66, 66]\n"
     ]
    }
   ],
   "source": [
    "print(\"S1:\",S1)\n",
    "print(\"S2:\",S2)\n",
    "intersection = []\n",
    "for i in S1:\n",
    "    for j in S2:\n",
    "        if i==j:\n",
    "            intersection.append(i)\n",
    "l = []\n",
    "for i in S1:\n",
    "    for j in intersection:\n",
    "        if i!=j:\n",
    "            l.append(i)\n",
    "            \n",
    "\n",
    "print(\"S1 - S2: \", l)  "
   ]
  },
  {
   "cell_type": "markdown",
   "id": "9579ab57-4774-4b2d-b65d-d43f66b7ea64",
   "metadata": {},
   "source": [
    "Q4. Write the following program.\n",
    "(i) WAP to print 100 random strings whose length between 6 and 8"
   ]
  },
  {
   "cell_type": "code",
   "execution_count": 77,
   "id": "2d8d0d2a-0494-427b-b906-c478666d4629",
   "metadata": {},
   "outputs": [
    {
     "name": "stdout",
     "output_type": "stream",
     "text": [
      "String-->  XKUNaC\n",
      "String-->  jyGigTC\n",
      "String-->  yiBpgaJs\n",
      "String-->  UfaRNL\n",
      "String-->  ZIuAodB\n",
      "String-->  ukLxJbga\n",
      "String-->  IoSnwl\n",
      "String-->  KIkgOAt\n",
      "String-->  MlLApIxn\n",
      "String-->  GcSmBU\n",
      "String-->  LGhDXpg\n",
      "String-->  tEJejGqb\n",
      "String-->  LWXskO\n",
      "String-->  raZEeVu\n",
      "String-->  IDARzqZa\n",
      "String-->  iGNQBk\n",
      "String-->  mzWJbvi\n",
      "String-->  qgMsPUwc\n",
      "String-->  KorzOj\n",
      "String-->  sFUZgEx\n",
      "String-->  RrCALoNK\n",
      "String-->  NIbAUv\n",
      "String-->  MWhGesS\n",
      "String-->  iYAtqDWc\n",
      "String-->  fzVJlF\n",
      "String-->  tnfjocE\n",
      "String-->  ljXRKOTM\n",
      "String-->  lMvhbg\n",
      "String-->  zvEXlTi\n",
      "String-->  WPylkquS\n",
      "String-->  zlAUYQ\n",
      "String-->  DTAWCUt\n",
      "String-->  FWbrzmLg\n",
      "String-->  dUvFye\n",
      "String-->  YKAegcD\n",
      "String-->  mxSJUjAD\n",
      "String-->  FUQImN\n",
      "String-->  ahIZOSu\n",
      "String-->  qPnHXBWs\n",
      "String-->  DKlhFo\n",
      "String-->  BHEXUdp\n",
      "String-->  hjdEfBXx\n",
      "String-->  UTqIwM\n",
      "String-->  IkliPpS\n",
      "String-->  XuzRZKDA\n",
      "String-->  UyNdqQ\n",
      "String-->  eoqTvMN\n",
      "String-->  tcdBDgSV\n",
      "String-->  fcELqg\n",
      "String-->  kdXHxwP\n",
      "String-->  TcEvHRmz\n",
      "String-->  toRnuM\n",
      "String-->  wEtpWIu\n",
      "String-->  zvtfDEWX\n",
      "String-->  jxSwhH\n",
      "String-->  NLEMauX\n",
      "String-->  PvhKwxIj\n",
      "String-->  hpsvto\n",
      "String-->  FogWKhP\n",
      "String-->  SpbczAgP\n",
      "String-->  cKRNog\n",
      "String-->  lLHwqQW\n",
      "String-->  CFYoMKQv\n",
      "String-->  rQGNvB\n",
      "String-->  FRWpVKk\n",
      "String-->  viUKDubF\n",
      "String-->  ZBlJCQ\n",
      "String-->  YKmqrsz\n",
      "String-->  AjLRHCIi\n",
      "String-->  eYJFqx\n",
      "String-->  AYLuKfT\n",
      "String-->  HuikIFwf\n",
      "String-->  nZoSTO\n",
      "String-->  NZdxBJC\n",
      "String-->  ywYTtZPD\n",
      "String-->  HYSfMX\n",
      "String-->  aJrjvPS\n",
      "String-->  UqBRykho\n",
      "String-->  dNDSKk\n",
      "String-->  EDPWkzY\n",
      "String-->  fmXJueZp\n",
      "String-->  CxMfRL\n",
      "String-->  vChEqLW\n",
      "String-->  PQdWvxpB\n",
      "String-->  zcTViv\n",
      "String-->  StojGIR\n",
      "String-->  rgROwEIj\n",
      "String-->  HuOFfj\n",
      "String-->  eESjRfK\n",
      "String-->  UdOjHlCA\n",
      "String-->  qXQkKC\n",
      "String-->  ojNmZXz\n",
      "String-->  CJEKIAXu\n",
      "String-->  QJMUms\n",
      "String-->  epIKujY\n",
      "String-->  sMANDTox\n",
      "String-->  dJDtnlHx\n"
     ]
    }
   ],
   "source": [
    "import string as s\n",
    "import random as r\n",
    "#print (\"String        --> \",s.ascii_letters)\n",
    "\n",
    "for i in range(1,33,1):\n",
    "    str1=r.sample(s.ascii_letters, 6)\n",
    "    str1=\"\".join(str1)\n",
    "    print (\"String--> \",str1)\n",
    "    str2=r.sample(s.ascii_letters, 7)\n",
    "    str2=\"\".join(str2)\n",
    "    print (\"String--> \",str2)\n",
    "    str3=r.sample(s.ascii_letters, 8)\n",
    "    str3=\"\".join(str3)\n",
    "    print (\"String--> \",str3)\n",
    "    \n",
    "str4=r.sample(s.ascii_letters, 8)\n",
    "str4=\"\".join(str4)\n",
    "print (\"String--> \",str4)"
   ]
  },
  {
   "cell_type": "markdown",
   "id": "56995adc-9d2c-492d-b4b8-fc52162e6b85",
   "metadata": {},
   "source": [
    "(ii) WAP to print all prime numbers between 600 and 800."
   ]
  },
  {
   "cell_type": "code",
   "execution_count": 82,
   "id": "ac4747bb-fd79-4ea4-a09f-66d1fcf12f96",
   "metadata": {},
   "outputs": [
    {
     "name": "stdout",
     "output_type": "stream",
     "text": [
      "Prime number between 400 & 600 --> Number 401 : 401\n",
      "Prime number between 400 & 600 --> Number 403 : 403\n",
      "Prime number between 400 & 600 --> Number 405 : 405\n",
      "Prime number between 400 & 600 --> Number 407 : 407\n",
      "Prime number between 400 & 600 --> Number 409 : 409\n",
      "Prime number between 400 & 600 --> Number 411 : 411\n",
      "Prime number between 400 & 600 --> Number 413 : 413\n",
      "Prime number between 400 & 600 --> Number 415 : 415\n",
      "Prime number between 400 & 600 --> Number 417 : 417\n",
      "Prime number between 400 & 600 --> Number 419 : 419\n",
      "Prime number between 400 & 600 --> Number 421 : 421\n",
      "Prime number between 400 & 600 --> Number 423 : 423\n",
      "Prime number between 400 & 600 --> Number 425 : 425\n",
      "Prime number between 400 & 600 --> Number 427 : 427\n",
      "Prime number between 400 & 600 --> Number 429 : 429\n",
      "Prime number between 400 & 600 --> Number 431 : 431\n",
      "Prime number between 400 & 600 --> Number 433 : 433\n",
      "Prime number between 400 & 600 --> Number 435 : 435\n",
      "Prime number between 400 & 600 --> Number 437 : 437\n",
      "Prime number between 400 & 600 --> Number 439 : 439\n",
      "Prime number between 400 & 600 --> Number 441 : 441\n",
      "Prime number between 400 & 600 --> Number 443 : 443\n",
      "Prime number between 400 & 600 --> Number 445 : 445\n",
      "Prime number between 400 & 600 --> Number 447 : 447\n",
      "Prime number between 400 & 600 --> Number 449 : 449\n",
      "Prime number between 400 & 600 --> Number 451 : 451\n",
      "Prime number between 400 & 600 --> Number 453 : 453\n",
      "Prime number between 400 & 600 --> Number 455 : 455\n",
      "Prime number between 400 & 600 --> Number 457 : 457\n",
      "Prime number between 400 & 600 --> Number 459 : 459\n",
      "Prime number between 400 & 600 --> Number 461 : 461\n",
      "Prime number between 400 & 600 --> Number 463 : 463\n",
      "Prime number between 400 & 600 --> Number 465 : 465\n",
      "Prime number between 400 & 600 --> Number 467 : 467\n",
      "Prime number between 400 & 600 --> Number 469 : 469\n",
      "Prime number between 400 & 600 --> Number 471 : 471\n",
      "Prime number between 400 & 600 --> Number 473 : 473\n",
      "Prime number between 400 & 600 --> Number 475 : 475\n",
      "Prime number between 400 & 600 --> Number 477 : 477\n",
      "Prime number between 400 & 600 --> Number 479 : 479\n",
      "Prime number between 400 & 600 --> Number 481 : 481\n",
      "Prime number between 400 & 600 --> Number 483 : 483\n",
      "Prime number between 400 & 600 --> Number 485 : 485\n",
      "Prime number between 400 & 600 --> Number 487 : 487\n",
      "Prime number between 400 & 600 --> Number 489 : 489\n",
      "Prime number between 400 & 600 --> Number 491 : 491\n",
      "Prime number between 400 & 600 --> Number 493 : 493\n",
      "Prime number between 400 & 600 --> Number 495 : 495\n",
      "Prime number between 400 & 600 --> Number 497 : 497\n",
      "Prime number between 400 & 600 --> Number 499 : 499\n",
      "Prime number between 400 & 600 --> Number 501 : 501\n",
      "Prime number between 400 & 600 --> Number 503 : 503\n",
      "Prime number between 400 & 600 --> Number 505 : 505\n",
      "Prime number between 400 & 600 --> Number 507 : 507\n",
      "Prime number between 400 & 600 --> Number 509 : 509\n",
      "Prime number between 400 & 600 --> Number 511 : 511\n",
      "Prime number between 400 & 600 --> Number 513 : 513\n",
      "Prime number between 400 & 600 --> Number 515 : 515\n",
      "Prime number between 400 & 600 --> Number 517 : 517\n",
      "Prime number between 400 & 600 --> Number 519 : 519\n",
      "Prime number between 400 & 600 --> Number 521 : 521\n",
      "Prime number between 400 & 600 --> Number 523 : 523\n",
      "Prime number between 400 & 600 --> Number 525 : 525\n",
      "Prime number between 400 & 600 --> Number 527 : 527\n",
      "Prime number between 400 & 600 --> Number 529 : 529\n",
      "Prime number between 400 & 600 --> Number 531 : 531\n",
      "Prime number between 400 & 600 --> Number 533 : 533\n",
      "Prime number between 400 & 600 --> Number 535 : 535\n",
      "Prime number between 400 & 600 --> Number 537 : 537\n",
      "Prime number between 400 & 600 --> Number 539 : 539\n",
      "Prime number between 400 & 600 --> Number 541 : 541\n",
      "Prime number between 400 & 600 --> Number 543 : 543\n",
      "Prime number between 400 & 600 --> Number 545 : 545\n",
      "Prime number between 400 & 600 --> Number 547 : 547\n",
      "Prime number between 400 & 600 --> Number 549 : 549\n",
      "Prime number between 400 & 600 --> Number 551 : 551\n",
      "Prime number between 400 & 600 --> Number 553 : 553\n",
      "Prime number between 400 & 600 --> Number 555 : 555\n",
      "Prime number between 400 & 600 --> Number 557 : 557\n",
      "Prime number between 400 & 600 --> Number 559 : 559\n",
      "Prime number between 400 & 600 --> Number 561 : 561\n",
      "Prime number between 400 & 600 --> Number 563 : 563\n",
      "Prime number between 400 & 600 --> Number 565 : 565\n",
      "Prime number between 400 & 600 --> Number 567 : 567\n",
      "Prime number between 400 & 600 --> Number 569 : 569\n",
      "Prime number between 400 & 600 --> Number 571 : 571\n",
      "Prime number between 400 & 600 --> Number 573 : 573\n",
      "Prime number between 400 & 600 --> Number 575 : 575\n",
      "Prime number between 400 & 600 --> Number 577 : 577\n",
      "Prime number between 400 & 600 --> Number 579 : 579\n",
      "Prime number between 400 & 600 --> Number 581 : 581\n",
      "Prime number between 400 & 600 --> Number 583 : 583\n",
      "Prime number between 400 & 600 --> Number 585 : 585\n",
      "Prime number between 400 & 600 --> Number 587 : 587\n",
      "Prime number between 400 & 600 --> Number 589 : 589\n",
      "Prime number between 400 & 600 --> Number 591 : 591\n",
      "Prime number between 400 & 600 --> Number 593 : 593\n",
      "Prime number between 400 & 600 --> Number 595 : 595\n",
      "Prime number between 400 & 600 --> Number 597 : 597\n",
      "Prime number between 400 & 600 --> Number 599 : 599\n"
     ]
    }
   ],
   "source": [
    "def IsPrime(n):\n",
    "    for i in range(2, n//2 + 1):\n",
    "        if n%i==0:\n",
    "            return 0\n",
    "        return n\n",
    "\n",
    "for i in range(400,601):\n",
    "    if IsPrime(i) ==0:\n",
    "        continue\n",
    "    else:\n",
    "        print(\"Prime number between 400 & 600 --> Number\",i,\":\",IsPrime(i))"
   ]
  },
  {
   "cell_type": "markdown",
   "id": "22dbe317-6de8-44c5-abae-eeb1e32dbda1",
   "metadata": {},
   "source": [
    "(iii) WAP to print all numbers between 100 and 1000 that are divisible by 7 and 9."
   ]
  },
  {
   "cell_type": "code",
   "execution_count": 83,
   "id": "f9540225-82ea-4e3b-86ce-a6c4115edd6a",
   "metadata": {},
   "outputs": [
    {
     "name": "stdout",
     "output_type": "stream",
     "text": [
      "126\n",
      "189\n",
      "252\n",
      "315\n",
      "378\n",
      "441\n",
      "504\n",
      "567\n",
      "630\n",
      "693\n",
      "756\n",
      "819\n",
      "882\n",
      "945\n"
     ]
    }
   ],
   "source": [
    "for i in range(100,1000):\n",
    "    if i % 7 == 0:\n",
    "        if i % 9 == 0 :\n",
    "            print(i)"
   ]
  },
  {
   "cell_type": "markdown",
   "id": "aad564c4-cfad-461e-bf5e-078e8b1d56cd",
   "metadata": {},
   "source": [
    "Q5. WAP to create two lists of 10 random numbers between 10 and 30; Find\n"
   ]
  },
  {
   "cell_type": "code",
   "execution_count": 86,
   "id": "5062613c-e9b1-414b-b56e-9c997302088c",
   "metadata": {},
   "outputs": [
    {
     "name": "stdout",
     "output_type": "stream",
     "text": [
      "s1: [20, 30, 17, 28, 20, 26, 17, 17, 24, 10]\n",
      "s2: [28, 22, 10, 17, 26, 10, 23, 17, 29, 23]\n"
     ]
    }
   ],
   "source": [
    "import random as r\n",
    "s1=[]\n",
    "for i in range(1,11):\n",
    "    s1.append(r.randint(10,30))\n",
    "\n",
    "s2=[]\n",
    "for i in range(1,11):\n",
    "    s2.append(r.randint(10,30))\n",
    "print(\"s1:\",s1)\n",
    "print(\"s2:\",s2)"
   ]
  },
  {
   "cell_type": "markdown",
   "id": "0c4508a2-406a-474d-8606-50958420fe13",
   "metadata": {},
   "source": [
    "(i) Common numbers in the two lists"
   ]
  },
  {
   "cell_type": "code",
   "execution_count": 2,
   "id": "264e6cad-bb50-4089-863d-03678e1bcf5b",
   "metadata": {},
   "outputs": [
    {
     "name": "stdout",
     "output_type": "stream",
     "text": [
      "s1: [14, 27, 27, 28, 22, 12, 26, 28, 25, 10]\n",
      "s2: [20, 15, 20, 14, 13, 25, 27, 24, 16, 17]\n",
      "Common numbers in 2 lists :  14\n",
      "Common numbers in 2 lists :  27\n",
      "Common numbers in 2 lists :  27\n",
      "Common numbers in 2 lists :  25\n"
     ]
    }
   ],
   "source": [
    "import random as r\n",
    "s1=[]\n",
    "for i in range(1,11):\n",
    "    s1.append(r.randint(10,30))\n",
    "\n",
    "s2=[]\n",
    "for i in range(1,11):\n",
    "    s2.append(r.randint(10,30))\n",
    "print(\"s1:\",s1)\n",
    "print(\"s2:\",s2)\n",
    "for i in s1:\n",
    "    for j in s2:\n",
    "        if i==j:\n",
    "            print(\"Common numbers in 2 lists : \" , i)"
   ]
  },
  {
   "cell_type": "markdown",
   "id": "41c7b6f9-07e7-4a40-b667-e8375bd6ce0e",
   "metadata": {},
   "source": [
    "(ii) Unique numbers in both the list"
   ]
  },
  {
   "cell_type": "code",
   "execution_count": 4,
   "id": "1e63c98e-ae48-4477-95c0-f34a15dde390",
   "metadata": {},
   "outputs": [
    {
     "name": "stdout",
     "output_type": "stream",
     "text": [
      "s1: [29, 14, 14, 30, 12, 26, 22, 27, 14, 17]\n",
      "s2: [13, 12, 12, 27, 17, 27, 29, 26, 20, 13]\n",
      "Common numbers in 2 lists :  29\n",
      "Common numbers in 2 lists :  12\n",
      "Common numbers in 2 lists :  12\n",
      "Common numbers in 2 lists :  26\n",
      "Common numbers in 2 lists :  27\n",
      "Common numbers in 2 lists :  27\n",
      "Common numbers in 2 lists :  17\n"
     ]
    }
   ],
   "source": [
    "import random as r\n",
    "s1=[]\n",
    "for i in range(1,11):\n",
    "    s1.append(r.randint(10,30))\n",
    "\n",
    "s2=[]\n",
    "for i in range(1,11):\n",
    "    s2.append(r.randint(10,30))\n",
    "print(\"s1:\",s1)\n",
    "print(\"s2:\",s2)\n",
    "for i in s1:\n",
    "    for j in s2:\n",
    "        if i==j:\n",
    "            print(\"Common numbers in 2 lists : \" , i)"
   ]
  },
  {
   "cell_type": "markdown",
   "id": "3615e302-f080-4ba0-b96c-276e3120bf82",
   "metadata": {},
   "source": [
    "(iii) Minimum in both the list"
   ]
  },
  {
   "cell_type": "code",
   "execution_count": 8,
   "id": "8836143a-4a04-41e0-b8f3-c775acd4f5b8",
   "metadata": {},
   "outputs": [
    {
     "name": "stdout",
     "output_type": "stream",
     "text": [
      "s1: [19, 22, 11, 29, 22, 10, 12, 13, 30, 23]\n",
      "s2: [10, 17, 12, 14, 21, 28, 13, 10, 11, 30]\n",
      "Common numbers in 2 lists :  10\n"
     ]
    }
   ],
   "source": [
    "import random as r\n",
    "s1=[]\n",
    "for i in range(1,11):\n",
    "    s1.append(r.randint(10,30))\n",
    "\n",
    "s2=[]\n",
    "for i in range(1,11):\n",
    "    s2.append(r.randint(10,30))\n",
    "print(\"s1:\",s1)\n",
    "print(\"s2:\",s2)\n",
    "\n",
    "common = []\n",
    "for i in s1:\n",
    "    for j in s2:\n",
    "        if i==j:\n",
    "            common.append(i)\n",
    "print(\"Common numbers in 2 lists : \" , min(common))"
   ]
  },
  {
   "cell_type": "markdown",
   "id": "597aa3a1-2ff5-4dd9-96d2-8ddfd59b73fe",
   "metadata": {},
   "source": [
    "(iv) Maximum in both the list"
   ]
  },
  {
   "cell_type": "code",
   "execution_count": 9,
   "id": "405a30b3-b9cb-4c6d-8c11-785cd9a42ed7",
   "metadata": {},
   "outputs": [
    {
     "name": "stdout",
     "output_type": "stream",
     "text": [
      "s1: [10, 29, 20, 16, 18, 30, 16, 18, 18, 27]\n",
      "s2: [16, 15, 28, 11, 25, 17, 13, 17, 29, 30]\n",
      "Common numbers in 2 lists :  30\n"
     ]
    }
   ],
   "source": [
    "import random as r\n",
    "s1=[]\n",
    "for i in range(1,11):\n",
    "    s1.append(r.randint(10,30))\n",
    "\n",
    "s2=[]\n",
    "for i in range(1,11):\n",
    "    s2.append(r.randint(10,30))\n",
    "print(\"s1:\",s1)\n",
    "print(\"s2:\",s2)\n",
    "\n",
    "common = []\n",
    "for i in s1:\n",
    "    for j in s2:\n",
    "        if i==j:\n",
    "            common.append(i)\n",
    "print(\"Common numbers in 2 lists : \" , max(common))"
   ]
  },
  {
   "cell_type": "markdown",
   "id": "f264c375-7745-4ae7-8865-788a3fa7e51d",
   "metadata": {},
   "source": [
    "(v) Sum of both the lists"
   ]
  },
  {
   "cell_type": "code",
   "execution_count": 13,
   "id": "0d9784fb-6694-4fd4-95de-a206275ff5c8",
   "metadata": {},
   "outputs": [
    {
     "name": "stdout",
     "output_type": "stream",
     "text": [
      "s1: [10, 21, 27, 13, 25, 14, 23, 15, 13, 28]\n",
      "s2: [11, 30, 20, 14, 13, 21, 13, 15, 19, 28]\n",
      "Sum in both 2 lists :  373\n"
     ]
    }
   ],
   "source": [
    "import random as r\n",
    "s1=[]\n",
    "for i in range(1,11):\n",
    "    s1.append(r.randint(10,30))\n",
    "\n",
    "s2=[]\n",
    "for i in range(1,11):\n",
    "    s2.append(r.randint(10,30))\n",
    "print(\"s1:\",s1)\n",
    "print(\"s2:\",s2)\n",
    "\n",
    "sum1 = 0\n",
    "sum2 = 0\n",
    "for i in s1:\n",
    "    sum1 = sum1 + i\n",
    "for j in s2:\n",
    "    sum2 = sum2 + j\n",
    "print(\"Sum in both 2 lists : \" , sum1+sum2)"
   ]
  },
  {
   "cell_type": "markdown",
   "id": "e5b4f777-d091-4df4-9ad1-adc7f2c2ae08",
   "metadata": {},
   "source": [
    "Q6. WAP to create a list of 100 random numbers between 100 and 900. Count and print the:\n"
   ]
  },
  {
   "cell_type": "code",
   "execution_count": 14,
   "id": "3d0a7eb0-775e-414b-a2d8-caf5bdf12545",
   "metadata": {},
   "outputs": [
    {
     "name": "stdout",
     "output_type": "stream",
     "text": [
      "[808, 673, 666, 428, 247, 448, 126, 446, 235, 785, 535, 535, 681, 838, 899, 864, 446, 190, 417, 443, 305, 893, 229, 119, 598, 425, 365, 424, 404, 900, 309, 602, 278, 164, 663, 753, 762, 417, 890, 332, 530, 848, 320, 257, 305, 565, 405, 826, 590, 576, 710, 813, 467, 652, 548, 881, 338, 303, 679, 609, 599, 284, 677, 821, 868, 885, 297, 435, 875, 898, 841, 681, 115, 168, 474, 467, 402, 548, 296, 638, 458, 630, 860, 780, 696, 844, 697, 873, 497, 602, 447, 357, 222, 160, 523, 519, 354, 699, 150, 681]\n"
     ]
    }
   ],
   "source": [
    "import random as r\n",
    "\n",
    "l=[]\n",
    "for i in range(100):\n",
    "    l.append(r.randint(100,900))\n",
    "\n",
    "print(l)\n"
   ]
  },
  {
   "cell_type": "markdown",
   "id": "5b08bf5b-3554-4de3-aae6-385eeba4a2ec",
   "metadata": {},
   "source": [
    "(i) all ODD numbers"
   ]
  },
  {
   "cell_type": "code",
   "execution_count": 15,
   "id": "035d3824-5cb6-47e4-be15-bbb364f6bc93",
   "metadata": {},
   "outputs": [
    {
     "name": "stdout",
     "output_type": "stream",
     "text": [
      "ALL ODD NUMBERS ARE: \n",
      "[673, 247, 235, 785, 535, 535, 681, 899, 417, 443, 305, 893, 229, 119, 425, 365, 309, 663, 753, 417, 257, 305, 565, 405, 813, 467, 881, 303, 679, 609, 599, 677, 821, 885, 297, 435, 875, 841, 681, 115, 467, 697, 873, 497, 447, 357, 523, 519, 699, 681]\n",
      "THE TOTAL COUNT OF ODD NUMBERS ARE:  50\n"
     ]
    }
   ],
   "source": [
    "print(\"ALL ODD NUMBERS ARE: \")\n",
    "l_odd=[]\n",
    "for i in l:\n",
    "    if i%2!=0:\n",
    "        l_odd.append(i)\n",
    "print(l_odd)\n",
    "print(\"THE TOTAL COUNT OF ODD NUMBERS ARE: \",len(l_odd))"
   ]
  },
  {
   "cell_type": "markdown",
   "id": "6e864a65-e83a-4d9a-a35c-05cfb20ea186",
   "metadata": {},
   "source": [
    "(ii) all even numbers"
   ]
  },
  {
   "cell_type": "code",
   "execution_count": 16,
   "id": "8455a80c-6165-4882-8959-2676d21e19a9",
   "metadata": {},
   "outputs": [
    {
     "name": "stdout",
     "output_type": "stream",
     "text": [
      "ALL EVEN NUMBERS ARE: \n",
      "[808, 666, 428, 448, 126, 446, 838, 864, 446, 190, 598, 424, 404, 900, 602, 278, 164, 762, 890, 332, 530, 848, 320, 826, 590, 576, 710, 652, 548, 338, 284, 868, 898, 168, 474, 402, 548, 296, 638, 458, 630, 860, 780, 696, 844, 602, 222, 160, 354, 150]\n",
      "THE TOTAL COUNT OF EVEN NUMBERS ARE:  50\n"
     ]
    }
   ],
   "source": [
    "print(\"ALL EVEN NUMBERS ARE: \")\n",
    "l_even=[]\n",
    "for i in l:\n",
    "    if i%2==0:\n",
    "        l_even.append(i)\n",
    "print(l_even)\n",
    "print(\"THE TOTAL COUNT OF EVEN NUMBERS ARE: \",len(l_even))"
   ]
  },
  {
   "cell_type": "markdown",
   "id": "2853ccee-0f5c-4c53-9047-261f633d081f",
   "metadata": {},
   "source": [
    "(iii) all prime numbers"
   ]
  },
  {
   "cell_type": "code",
   "execution_count": 18,
   "id": "2236335a-3525-4ee2-8696-69020e9c9aff",
   "metadata": {},
   "outputs": [
    {
     "name": "stdout",
     "output_type": "stream",
     "text": [
      "ALL THE PRIME NUMBERS ARE\n",
      "[673, 247, 235, 785, 535, 535, 681, 899, 417, 443, 305, 893, 229, 119, 425, 365, 309, 663, 753, 417, 257, 305, 565, 405, 813, 467, 881, 303, 679, 609, 599, 677, 821, 885, 297, 435, 875, 841, 681, 115, 467, 697, 873, 497, 447, 357, 523, 519, 699, 681]\n",
      "THE TOTAL NUMBER OF PRIME NUMBERS ARE:  50\n"
     ]
    }
   ],
   "source": [
    "print(\"ALL THE PRIME NUMBERS ARE\")\n",
    "def IsPrime(n):\n",
    "    for i in range(2, n//2 + 1):\n",
    "        if n%i==0:\n",
    "            return 0\n",
    "        return n\n",
    "\n",
    "prime = []\n",
    "for i in l:\n",
    "    if IsPrime(i)!=0:\n",
    "        prime.append(IsPrime(i))\n",
    "\n",
    "print(prime)\n",
    "print(\"THE TOTAL NUMBER OF PRIME NUMBERS ARE: \",len(prime))"
   ]
  },
  {
   "cell_type": "markdown",
   "id": "dd855650-69c5-4dca-b617-7081c01136c4",
   "metadata": {},
   "source": [
    "Q7. D is a dictionary defined as D={1:\"One\",2:\"Two\",3:\"Three\",4:\"Four\", 5:\"Five\"}.\n",
    "WAP to read all the keys and values from dictionary and write to the file in the given below format.\n",
    "Key1, Value1 Key2, Value2 Key3, Value3\n"
   ]
  },
  {
   "cell_type": "code",
   "execution_count": 23,
   "id": "1b4aff99-5050-4e73-8a86-f8fb9b6ed8f6",
   "metadata": {},
   "outputs": [
    {
     "name": "stdout",
     "output_type": "stream",
     "text": [
      "Keys and values have been written to the file.\n"
     ]
    }
   ],
   "source": [
    "D = {1: \"One\", 2: \"Two\", 3: \"Three\", 4: \"Four\", 5: \"Five\"}\n",
    "\n",
    "with open(\"output1.txt\", \"w\") as file:\n",
    "    for key, value in D.items():\n",
    "        file.write(f\"{key}, {value} \")\n",
    "file.close()\n",
    "print(\"Keys and values have been written to the file.\")\n"
   ]
  },
  {
   "cell_type": "markdown",
   "id": "c259b80f-c818-49c8-9d0d-38c826f70f9f",
   "metadata": {},
   "source": [
    "Q8. L is a list defined as L={\"One\",\"Two\",\"Three\",\"Four\",\"Five\"}.\n",
    "WAP to count the length of reach element from a list and write to the file in the given below format:\n",
    "One, 3 Two, 3 Four, 4"
   ]
  },
  {
   "cell_type": "code",
   "execution_count": 22,
   "id": "c585326e-6e72-406c-b81d-530054fbe3da",
   "metadata": {},
   "outputs": [
    {
     "name": "stdout",
     "output_type": "stream",
     "text": [
      "Lengths of elements have been written to the file.\n"
     ]
    }
   ],
   "source": [
    "L = [\"One\", \"Two\", \"Three\", \"Four\", \"Five\"]\n",
    "\n",
    "with open(\"output2.txt\", \"w\") as file:\n",
    "    for element in L:\n",
    "        length = len(element)\n",
    "        file.write(f\"{element}, {length} \")\n",
    "file.close()\n",
    "print(\"Lengths of elements have been written to the file.\")\n",
    "\n"
   ]
  },
  {
   "cell_type": "markdown",
   "id": "a8241429-116d-490a-8d93-7bd0ca9557b7",
   "metadata": {},
   "source": [
    "Q9. Write to the file 100 random strings whose length between 10 and 15."
   ]
  },
  {
   "cell_type": "code",
   "execution_count": 26,
   "id": "2ef1bd8b-297b-4555-94a5-a56e15140fda",
   "metadata": {},
   "outputs": [
    {
     "name": "stdout",
     "output_type": "stream",
     "text": [
      "Random strings have been written to the file.\n"
     ]
    }
   ],
   "source": [
    "import random as r\n",
    "import string as s\n",
    "\n",
    "with open(\"output3.txt\", \"w\") as file:\n",
    "    \n",
    "    for _ in range(100):\n",
    "        length = r.randint(10, 15)\n",
    "        random_string = ''.join(r.choices(s.ascii_letters + s.digits, k=length))\n",
    "        file.write(random_string + '\\n')\n",
    "        \n",
    "file.close()\n",
    "print(\"Random strings have been written to the file.\")\n",
    "\n",
    "\n",
    "    "
   ]
  },
  {
   "cell_type": "markdown",
   "id": "2449f4f9-3173-4a07-a9af-ee4263def942",
   "metadata": {},
   "source": [
    "Q10. Write to the file all prime numbers between 600 and 800."
   ]
  },
  {
   "cell_type": "code",
   "execution_count": 27,
   "id": "2804ac43-bdb2-42e1-8724-65e4f9ec38c8",
   "metadata": {},
   "outputs": [
    {
     "name": "stdout",
     "output_type": "stream",
     "text": [
      "Prime numbers have been written to the file.\n"
     ]
    }
   ],
   "source": [
    "def is_prime(n):\n",
    "    if n <= 1:\n",
    "        return False\n",
    "    for i in range(2, n//2 + 1):\n",
    "        if n % i == 0:\n",
    "            return False\n",
    "    return True\n",
    "\n",
    "with open(\"output4.txt\", \"w\") as file:\n",
    "\n",
    "    for num in range(600, 801):\n",
    "        if is_prime(num):\n",
    "            file.write(str(num) + '\\n')\n",
    "            \n",
    "file.close()\n",
    "print(\"Prime numbers have been written to the file.\")\n"
   ]
  },
  {
   "cell_type": "markdown",
   "id": "7ad549f1-6819-425f-8543-b49918a52328",
   "metadata": {},
   "source": [
    "Q11. WAP to calculate the time taken by a program."
   ]
  },
  {
   "cell_type": "code",
   "execution_count": 29,
   "id": "4b35f3c5-9f62-4031-8c66-6a6ac781f3b3",
   "metadata": {},
   "outputs": [
    {
     "name": "stdout",
     "output_type": "stream",
     "text": [
      "4999950000\n",
      "The program took 0.01856374740600586 seconds to execute.\n"
     ]
    }
   ],
   "source": [
    "import time\n",
    "\n",
    "start_time = time.time()\n",
    "\n",
    "# Your program or code goes here\n",
    "sum=0\n",
    "for i in range(100000):\n",
    "    sum=sum+i\n",
    "\n",
    "print(sum)\n",
    "end_time = time.time()\n",
    "\n",
    "elapsed_time = end_time - start_time\n",
    "print(f\"The program took {elapsed_time} seconds to execute.\")\n"
   ]
  },
  {
   "cell_type": "markdown",
   "id": "e7be2141-51a5-42cc-a66d-13ad20ed193b",
   "metadata": {},
   "source": [
    "Q12. WAP to sort following number of elements in a list, calculate time taken and plot the graph."
   ]
  },
  {
   "cell_type": "code",
   "execution_count": 66,
   "id": "6bde8fb5-3200-4af3-af45-b943aaeb6373",
   "metadata": {},
   "outputs": [
    {
     "name": "stdout",
     "output_type": "stream",
     "text": [
      "Execution time: 0.007707834243774414 0.009147167205810547 0.012459039688110352 0.015044212341308594 0.014990806579589844 sec\n"
     ]
    },
    {
     "data": {
      "image/png": "[encoded data removed]",
      "text/plain": [
       "<Figure size 640x480 with 1 Axes>"
      ]
     },
     "metadata": {},
     "output_type": "display_data"
    }
   ],
   "source": [
    "import time\n",
    "import random as r\n",
    "\n",
    "st = time.time()\n",
    "list_5000 =[]\n",
    "for i in range(1,5001):\n",
    "    list_5000.append(r.randint(1,5000))\n",
    "list_5000.sort()\n",
    "et = time.time()\n",
    "T1 = et - st\n",
    "\n",
    "st = time.time()\n",
    "list_10000 =[]\n",
    "for i in range(1,10001):\n",
    "    list_10000.append(r.randint(1,10000))\n",
    "list_10000.sort()\n",
    "et = time.time()\n",
    "T2 = et - st\n",
    "\n",
    "st = time.time()\n",
    "list_15000 =[]\n",
    "for i in range(1,15001):\n",
    "    list_15000.append(r.randint(1,15000))\n",
    "list_15000.sort()\n",
    "et = time.time()\n",
    "T3= et - st\n",
    "\n",
    "st = time.time()\n",
    "list_20000 =[]\n",
    "for i in range(1,20001):\n",
    "    list_20000.append(r.randint(1,20000))\n",
    "list_20000.sort()\n",
    "et = time.time()\n",
    "T4 = et - st\n",
    "\n",
    "st = time.time()\n",
    "list_25000 =[]\n",
    "for i in range(1,25001):\n",
    "    list_20000.append(r.randint(1,25000))\n",
    "list_25000.sort()\n",
    "et = time.time()\n",
    "T5 = et - st\n",
    "\n",
    "print('Execution time:', T1 , T2 , T3 , T4 , T5 , 'sec')\n",
    "\n",
    "\n",
    "import matplotlib.pyplot as plt\n",
    "x = [\"5k\" , \"10k\", \"15k\" , \"20k\"  ,\"25k\"]\n",
    "y = [T1 , T2 , T3 , T4 , T5]\n",
    "\n",
    "plt.plot(x, y, marker='o')\n",
    "plt.xlabel('Number of Elements')\n",
    "plt.ylabel('Time Taken (seconds)')\n",
    "plt.title('Sorting Time')\n",
    "plt.grid(True)\n",
    "plt.show()"
   ]
  },
  {
   "cell_type": "markdown",
   "id": "3e970aa6-cbfa-4544-b4f4-5a86df3f7661",
   "metadata": {},
   "source": [
    "Q13. WAP to create a dictionary of student marks in five subjects and you have to find the student having maximum and minimum average marks."
   ]
  },
  {
   "cell_type": "code",
   "execution_count": 164,
   "id": "edd3f47d-bf12-4f73-8c8a-0c5a617bdc96",
   "metadata": {},
   "outputs": [
    {
     "ename": "TypeError",
     "evalue": "'int' object is not callable",
     "output_type": "error",
     "traceback": [
      "\u001b[0;31m---------------------------------------------------------------------------\u001b[0m",
      "\u001b[0;31mTypeError\u001b[0m                                 Traceback (most recent call last)",
      "Cell \u001b[0;32mIn[164], line 10\u001b[0m\n\u001b[1;32m      8\u001b[0m average_marks \u001b[38;5;241m=\u001b[39m {}\n\u001b[1;32m      9\u001b[0m \u001b[38;5;28;01mfor\u001b[39;00m student, marks \u001b[38;5;129;01min\u001b[39;00m student_marks\u001b[38;5;241m.\u001b[39mitems():\n\u001b[0;32m---> 10\u001b[0m     average_marks[student] \u001b[38;5;241m=\u001b[39m \u001b[38;5;28;43msum\u001b[39;49m\u001b[43m(\u001b[49m\u001b[43mmarks\u001b[49m\u001b[43m)\u001b[49m \u001b[38;5;241m/\u001b[39m \u001b[38;5;28mlen\u001b[39m(marks)\n\u001b[1;32m     12\u001b[0m max_average_student \u001b[38;5;241m=\u001b[39m \u001b[38;5;28mmax\u001b[39m(average_marks, key\u001b[38;5;241m=\u001b[39maverage_marks\u001b[38;5;241m.\u001b[39mget)\n\u001b[1;32m     13\u001b[0m min_average_student \u001b[38;5;241m=\u001b[39m \u001b[38;5;28mmin\u001b[39m(average_marks, key\u001b[38;5;241m=\u001b[39maverage_marks\u001b[38;5;241m.\u001b[39mget)\n",
      "\u001b[0;31mTypeError\u001b[0m: 'int' object is not callable"
     ]
    }
   ],
   "source": [
    "student_marks = {\n",
    "    \"A\": [80, 90, 85, 92, 88],\n",
    "    \"B\": [75, 95, 80, 88, 92],\n",
    "    \"C\": [90, 85, 95, 78, 80],\n",
    "    \"D\": [82, 88, 90, 92, 85]\n",
    "}\n",
    "\n",
    "average_marks = {}\n",
    "for student, marks in student_marks.items():\n",
    "    average_marks[student] = sum(marks) / len(marks)\n",
    "\n",
    "max_average_student = max(average_marks, key=average_marks.get)\n",
    "min_average_student = min(average_marks, key=average_marks.get)\n",
    "\n",
    "print(\"Student with maximum average marks:\")\n",
    "print(f\"Name: {max_average_student}\")\n",
    "print(f\"Average Marks: {average_marks[max_average_student]}\")\n",
    "\n",
    "print(\"\\nStudent with minimum average marks:\")\n",
    "print(f\"Name: {min_average_student}\")\n",
    "print(f\"Average Marks: {average_marks[min_average_student]}\")\n"
   ]
  }
 ],
 "metadata": {
  "kernelspec": {
   "display_name": "Python 3 (ipykernel)",
   "language": "python",
   "name": "python3"
  },
  "language_info": {
   "codemirror_mode": {
    "name": "ipython",
    "version": 3
   },
   "file_extension": ".py",
   "mimetype": "text/x-python",
   "name": "python",
   "nbconvert_exporter": "python",
   "pygments_lexer": "ipython3",
   "version": "3.10.9"
  }
 },
 "nbformat": 4,
 "nbformat_minor": 5
}
